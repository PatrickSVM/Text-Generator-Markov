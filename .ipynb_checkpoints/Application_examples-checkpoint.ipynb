{
 "cells": [
  {
   "cell_type": "markdown",
   "metadata": {},
   "source": [
    "## Application Examples"
   ]
  },
  {
   "cell_type": "markdown",
   "metadata": {},
   "source": [
    "Both scripts can either be imported as modules to access their function or can be run from the command line. If run by the command line, the following commands can be followed:\n",
    "1. `text_stats.py <txt_file> <output_file>` where the last argument is just optional, if provided the output is not printed but rather stored in the provided file\n",
    "2. `generate_text.py <txt_file> <starting_word> <max_words>` where the first argument specifies the word to start with and the second argument the number of words to be generated"
   ]
  },
  {
   "cell_type": "markdown",
   "metadata": {},
   "source": [
    "### Generation of Shakespeare-like text:"
   ]
  },
  {
   "cell_type": "code",
   "execution_count": 1,
   "metadata": {},
   "outputs": [],
   "source": [
    "import numpy as np\n",
    "from text_stats import get_word_list, get_string_from_txt\n",
    "from generate_text import get_neighbour_matrix, get_random_sentence"
   ]
  },
  {
   "cell_type": "code",
   "execution_count": 2,
   "metadata": {},
   "outputs": [],
   "source": [
    "word_list = get_word_list(get_string_from_txt(\"shakespeare.txt\"))"
   ]
  },
  {
   "cell_type": "code",
   "execution_count": 3,
   "metadata": {},
   "outputs": [
    {
     "data": {
      "text/plain": [
       "\"i like rotten policy respecting you now this were there be taken not had a paper this will answer prince your husband's lands to answer your highness loss of the lady lady percy my venison master o the jew and building how now on caesar have told him an outward part\""
      ]
     },
     "execution_count": 3,
     "metadata": {},
     "output_type": "execute_result"
    }
   ],
   "source": [
    "get_random_sentence(word_list, \"I\", 50)"
   ]
  },
  {
   "cell_type": "code",
   "execution_count": 4,
   "metadata": {},
   "outputs": [
    {
     "data": {
      "text/plain": [
       "\"this night methought he found by all struck first citizen why is that you when nobles bearing should wear their accusers and exeter bedford and vanquished these labours which ten you help me i took me pistol come from thy miseries on sweetest flowers i say do wink being wasted in thy part of philippi and you for a good news by thy doom this very good gentlemen let’s carve break promise of them the name ursula sure exeunt all will i warrant you _exit_ scene iv duke humphrey being blown lies in the morning no reason says she's like an end i do seem night great siz’d monster fly from such a speak cordelia time but tell thee meet us all the ground inhabitable where douglas arm arm as they have the strongest in their eyes of quiet course what says very true i am above the red and do nothing is my crown of your word of syracuse i'll buy it grieves me next is master corporate bardolph be not how then to joy pleasance revel it pistol me would say to fly would kill coriolanuswho falls are we must know king john's trumpet sounds enter lucius with sighs will you cousin such high emperor ah let me if not lewis of denial and victorious hand will king make assay upon my mind dromio play quickly the sum of france when she's rare speaker of war how giddily as a boy thou unfeeling barren and low my project gutenberg license of those wounds plough'd for you crush the point you anon their mouths of hunt i set it jars so and sinon's was us'd in music my becomings kill god's name imogen away the knavish piece to that wildly and talk of black storm quaff’d off his rage have\""
      ]
     },
     "execution_count": 4,
     "metadata": {},
     "output_type": "execute_result"
    }
   ],
   "source": [
    "get_random_sentence(word_list, \"This\", 300)"
   ]
  },
  {
   "cell_type": "markdown",
   "metadata": {},
   "source": [
    "### Generation of Michael Jackson-like lyrics:"
   ]
  },
  {
   "cell_type": "code",
   "execution_count": 11,
   "metadata": {},
   "outputs": [],
   "source": [
    "word_list = get_word_list(get_string_from_txt(\"michael_jackson.txt\"))"
   ]
  },
  {
   "cell_type": "code",
   "execution_count": 21,
   "metadata": {},
   "outputs": [
    {
     "data": {
      "text/plain": [
       "\"what you gotta hear it my soul it's the entire human everyone's taking you remember the wings of mehe really had enough keep playing chorus so relaxed mingle jingle in the window i love you down these soldiers come to give in the boogie alright keep it feed it no one\""
      ]
     },
     "execution_count": 21,
     "metadata": {},
     "output_type": "execute_result"
    }
   ],
   "source": [
    "get_random_sentence(word_list, \"What\", 50)"
   ]
  },
  {
   "cell_type": "code",
   "execution_count": 23,
   "metadata": {},
   "outputs": [
    {
     "data": {
      "text/plain": [
       "\"i want to get me workin workin day but wait mother's preaching abraham brothers create your love's a man's supposed to be showing you i don't be grievin this particular monster heâ s a cold man the lines divinity in love in blood is it rap performed before you move ya always missin maybe you scream in my hand tahitian tanned in my every page you feelin insane swift and shout it so easy so dangerous i feel real tired now in the time i wanna hit the border it's just what about us we can't take your alibis and i'll smile what's goin down turn us just to me keep on baby i would lie for you can't believe the way how you to talk ya ooooooh you know it to be trippin why do giving me and girl so tired of us to me be a better place too far cause when this is saying i am in the needs me it for you and then you warm you love me he say she says that makes the color that life and everything make a compramise ya masquerade the fallin in my feet my father proud to read sheâ ll be complanin ooh go of taking no more pain boy and who gave you were as the dead about you put you darling now you don't be she find me do what you ran into the movies with a lovely song bridge so make me conoces bien y t be there ain't nothin like dancing and welcome her money anything anything anything for you do i'll be here with tears every day and it's johnny raven settling down the moon the face then she needs in her i found refrain oh no no one but there's a look up\""
      ]
     },
     "execution_count": 23,
     "metadata": {},
     "output_type": "execute_result"
    }
   ],
   "source": [
    "get_random_sentence(word_list, \"I\", 300)"
   ]
  },
  {
   "cell_type": "markdown",
   "metadata": {},
   "source": [
    "### Further thoughts:"
   ]
  },
  {
   "cell_type": "markdown",
   "metadata": {},
   "source": [
    "We decided to store all the neighbours to compute the probabilities for next words in a NxN neighbour numpy matrix. But after computing it, the code to find a string still took very long (even though the values were already computed and we only had to find the probabilities in the matrix and do a random choice). But then we discovered, that the `np.random.choice()` method is far slower (~14x slower, 9.4s vs. 0.59) if choosing from a string list compared to a numeric list with indices. The following profiles show both methods for 2000 words after computing the next_matr neighbour matrix:"
   ]
  },
  {
   "cell_type": "code",
   "execution_count": 24,
   "metadata": {},
   "outputs": [],
   "source": [
    "word_list = get_word_list(get_string_from_txt(\"shakespeare.txt\"))\n",
    "idx_map, unique_words, next_matr = get_neighbour_matrix(word_list)"
   ]
  },
  {
   "cell_type": "code",
   "execution_count": 30,
   "metadata": {},
   "outputs": [
    {
     "name": "stdout",
     "output_type": "stream",
     "text": [
      "         40002 function calls in 8.433 seconds\n",
      "\n",
      "   Ordered by: standard name\n",
      "\n",
      "   ncalls  tottime  percall  cumtime  percall filename:lineno(function)\n",
      "     2000    0.003    0.000    0.075    0.000 <__array_function__ internals>:2(sum)\n",
      "        1    0.000    0.000    0.000    0.000 cProfile.py:133(__exit__)\n",
      "     2000    0.000    0.000    0.000    0.000 fromnumeric.py:2100(_sum_dispatcher)\n",
      "     2000    0.004    0.000    0.069    0.000 fromnumeric.py:2105(sum)\n",
      "     2000    0.006    0.000    0.064    0.000 fromnumeric.py:70(_wrapreduction)\n",
      "     2000    0.002    0.000    0.002    0.000 fromnumeric.py:71(<dictcomp>)\n",
      "     4000    0.009    0.000    0.010    0.000 getlimits.py:366(__new__)\n",
      "     4000    0.005    0.000    0.007    0.000 numerictypes.py:286(issubclass_)\n",
      "     2000    0.004    0.000    0.011    0.000 numerictypes.py:360(issubdtype)\n",
      "     2000    0.001    0.000    0.001    0.000 {built-in method builtins.isinstance}\n",
      "     6000    0.003    0.000    0.003    0.000 {built-in method builtins.issubclass}\n",
      "     2000    0.003    0.000    0.072    0.000 {built-in method numpy.core._multiarray_umath.implement_array_function}\n",
      "     2000    8.338    0.004    8.359    0.004 {method 'choice' of 'numpy.random.mtrand.RandomState' objects}\n",
      "        1    0.000    0.000    0.000    0.000 {method 'disable' of '_lsprof.Profiler' objects}\n",
      "     4000    0.001    0.000    0.001    0.000 {method 'get' of 'dict' objects}\n",
      "     2000    0.001    0.000    0.001    0.000 {method 'items' of 'dict' objects}\n",
      "     2000    0.056    0.000    0.056    0.000 {method 'reduce' of 'numpy.ufunc' objects}\n",
      "\n",
      "\n"
     ]
    }
   ],
   "source": [
    "import cProfile \n",
    "\n",
    "with cProfile.Profile() as prof:\n",
    "    curr_word = \"king\"\n",
    "    sent = curr_word\n",
    "    for i in range(2000):\n",
    "        idx_row = idx_map[curr_word]\n",
    "        probs = next_matr[idx_row, ]\n",
    "\n",
    "        if np.sum(probs) == 0: # Check if there are any next words, otherwise break\n",
    "            print(\"No next words found. - Stop!\")\n",
    "            break\n",
    "\n",
    "        choice = np.random.choice(unique_words, p=probs)\n",
    "\n",
    "        curr_word = choice\n",
    "        sent = sent + \" \" + curr_word\n",
    "prof.print_stats()"
   ]
  },
  {
   "cell_type": "code",
   "execution_count": 31,
   "metadata": {},
   "outputs": [
    {
     "name": "stdout",
     "output_type": "stream",
     "text": [
      "         42008 function calls in 0.591 seconds\n",
      "\n",
      "   Ordered by: standard name\n",
      "\n",
      "   ncalls  tottime  percall  cumtime  percall filename:lineno(function)\n",
      "     2000    0.001    0.000    0.046    0.000 <__array_function__ internals>:2(sum)\n",
      "        1    0.001    0.001    0.001    0.001 <ipython-input-31-b17e0b5f081b>:21(<listcomp>)\n",
      "        1    0.001    0.001    0.001    0.001 <ipython-input-31-b17e0b5f081b>:4(<dictcomp>)\n",
      "        1    0.000    0.000    0.000    0.000 cProfile.py:133(__exit__)\n",
      "     2000    0.000    0.000    0.000    0.000 fromnumeric.py:2100(_sum_dispatcher)\n",
      "     2000    0.001    0.000    0.044    0.000 fromnumeric.py:2105(sum)\n",
      "     2000    0.002    0.000    0.042    0.000 fromnumeric.py:70(_wrapreduction)\n",
      "     2000    0.001    0.000    0.001    0.000 fromnumeric.py:71(<dictcomp>)\n",
      "     4000    0.002    0.000    0.002    0.000 getlimits.py:366(__new__)\n",
      "     4000    0.001    0.000    0.002    0.000 numerictypes.py:286(issubclass_)\n",
      "     2000    0.001    0.000    0.003    0.000 numerictypes.py:360(issubdtype)\n",
      "     2000    0.000    0.000    0.000    0.000 {built-in method builtins.isinstance}\n",
      "     6000    0.001    0.000    0.001    0.000 {built-in method builtins.issubclass}\n",
      "        1    0.000    0.000    0.000    0.000 {built-in method builtins.len}\n",
      "        1    0.000    0.000    0.000    0.000 {built-in method numpy.arange}\n",
      "     2000    0.001    0.000    0.045    0.000 {built-in method numpy.core._multiarray_umath.implement_array_function}\n",
      "     2000    0.000    0.000    0.000    0.000 {method 'append' of 'list' objects}\n",
      "     2000    0.539    0.000    0.543    0.000 {method 'choice' of 'numpy.random.mtrand.RandomState' objects}\n",
      "        1    0.000    0.000    0.000    0.000 {method 'disable' of '_lsprof.Profiler' objects}\n",
      "     4000    0.000    0.000    0.000    0.000 {method 'get' of 'dict' objects}\n",
      "     2001    0.000    0.000    0.000    0.000 {method 'items' of 'dict' objects}\n",
      "        1    0.000    0.000    0.000    0.000 {method 'join' of 'str' objects}\n",
      "     2000    0.040    0.000    0.040    0.000 {method 'reduce' of 'numpy.ufunc' objects}\n",
      "\n",
      "\n"
     ]
    }
   ],
   "source": [
    "with cProfile.Profile() as prof:\n",
    "    curr_word = \"king\"\n",
    "    idx_curr_word = idx_map[curr_word]\n",
    "    rev_idx_map = {v:k for k, v in idx_map.items()}\n",
    "    all_idx = np.arange(len(unique_words))\n",
    "    chosen = [idx_curr_word]\n",
    "    #sent = curr_word\n",
    "\n",
    "    for i in range(2000):\n",
    "        probs = next_matr[idx_curr_word, ]\n",
    "\n",
    "        if np.sum(probs) == 0: # Check if there are any next words, otherwise break\n",
    "            print(\"No next words found. - Stop!\")\n",
    "            break\n",
    "\n",
    "        choice = np.random.choice(all_idx, p=probs)\n",
    "\n",
    "        chosen.append(choice) \n",
    "        idx_curr_word = choice\n",
    "\n",
    "    sent = \" \".join([rev_idx_map[wrd_id] for wrd_id in chosen])\n",
    "prof.print_stats()"
   ]
  }
 ],
 "metadata": {
  "kernelspec": {
   "display_name": "Python 3",
   "language": "python",
   "name": "python3"
  },
  "language_info": {
   "codemirror_mode": {
    "name": "ipython",
    "version": 3
   },
   "file_extension": ".py",
   "mimetype": "text/x-python",
   "name": "python",
   "nbconvert_exporter": "python",
   "pygments_lexer": "ipython3",
   "version": "3.8.3"
  }
 },
 "nbformat": 4,
 "nbformat_minor": 4
}
